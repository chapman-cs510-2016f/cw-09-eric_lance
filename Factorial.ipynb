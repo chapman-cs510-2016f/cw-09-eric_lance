{
 "cells": [
  {
   "cell_type": "markdown",
   "metadata": {
    "collapsed": false
   },
   "source": [
    "# Factorial Function in C"
   ]
  },
  {
   "cell_type": "markdown",
   "metadata": {},
   "source": [
    "## Algorithm Analysis\n",
    "\n",
    "This algorithm starts by assigning the input n to a variable fac. It then goes through a loop where it decriments the input variable n then multiplies the variable fac by n. So, to use 4! as an example:\n",
    "\n",
    "When the function begins, fac=n=4\n",
    "\n",
    "First loop, n becomes 3 then fac = 4\\*3\n",
    "\n",
    "This continues until fac = 4\\*3\\*2\\*1\n",
    "\n",
    "The loop then goes through one more iteration due to an error in the code and fac becomes zero. This error can be fixed by changing the while loop condition from (n>0) to (n>2), which will have the effect of ending the loop after (in the 4! example) fac = 4\\*3\\*2 = 4!\n",
    "\n",
    "In addition, the code doesn't check for n<=0. This can be done with if statements that return 1 if n=0 and returns an error if n<0."
   ]
  },
  {
   "cell_type": "code",
   "execution_count": null,
   "metadata": {
    "collapsed": true
   },
   "outputs": [],
   "source": []
  }
 ],
 "metadata": {
  "kernelspec": {
   "display_name": "Python 3",
   "language": "python",
   "name": "python3"
  },
  "language_info": {
   "codemirror_mode": {
    "name": "ipython",
    "version": 2
   },
   "file_extension": ".py",
   "mimetype": "text/x-python",
   "name": "python",
   "nbconvert_exporter": "python",
   "pygments_lexer": "ipython2",
   "version": "2.7.10"
  }
 },
 "nbformat": 4,
 "nbformat_minor": 0
}
