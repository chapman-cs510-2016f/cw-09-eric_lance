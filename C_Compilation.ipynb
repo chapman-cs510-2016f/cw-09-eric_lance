{
 "cells": [
  {
   "cell_type": "markdown",
   "metadata": {
    "collapsed": false
   },
   "source": [
    "# CW-09 Introduction to C and Makefiles\n",
    "## README Item #3\n",
    "## Lance Clifner, Eric Freda\n",
    "CS-510\n",
    "<br>October 25, 2016"
   ]
  },
  {
   "cell_type": "markdown",
   "metadata": {
    "collapsed": false
   },
   "source": [
    "## Purpose of a Makefile\n",
    "The primary purpose of a Makefile is to create an executable program from a collection of source files and libraries using an orderly set of rules.  It can also be set up to perform a variety of utility and bookkeeping tasks, such as cleaning up temporary files, packaging executable and auxillary files for distribution, running automated tests, and so forth.\n",
    "\n",
    "Inside the Makefile, environment variables are typically set up to locate the source file directories, library directories, include file directories, compilation and linking options, etc.  \n",
    "\n",
    "The Makefile also can be set up to check for \"dependencies\", where a file being operated on by the Makefile uses or depends on another file.  If the dependent file has been more recently changed than the file which depends on it, then the Makefile will cause the file to be processed automatically.\n",
    "\n",
    "Typically, a Makefile will invoke a compiler to convert a source file into an object file, and then combine a set of object files into a library or an executable.  The Makefile also invokes a linker to merge object files and libraries into an executable program that can be run by an end user to perform the task that the program was designed to accomplish."
   ]
  },
  {
   "cell_type": "markdown",
   "metadata": {
    "collapsed": false
   },
   "source": [
    "## Code Organization\n",
    "\n",
    "The code for this exercise is organized into two subdirectories below a top level directory.  The subdirectories are `src` and `test`, which hold the main source files for the exercise and the test files that are used for performing unit test on the source files.\n",
    "\n",
    "The top level directory contains a master Makefile which then invokes the Makefiles in each of the sub-directories.  The Makefiles in the sub-directories are responsible for making the object files and executables in their respective directories.\n",
    "\n",
    "This is a reasonable structure because it supports good programming practices of having source modules and unit test modules which are separate from each other.  The structure is also set up so that the master Makefile is cognizant of the presence of all of its sub-component parts, but how each of those sub-components are built is known only by the Makefile responsible for that sub-component."
   ]
  },
  {
   "cell_type": "markdown",
   "metadata": {
    "collapsed": false
   },
   "source": [
    "## What is a Source File\n",
    "A source file is a set of higher level, logical instructions that tell a computer the series of steps to take in order to perform a specific task desired by the operator.  The instructions follow a specific syntax and use terms and symbols that are relatively easy for a human to understand.  The rules for the syntax, terms, and symbols is typically refered to as a computer programming language.  However, the source file is in a form that a computer *cannot* understand without first being interpreted or translated into a format/language that the computer can understand.  The format that a computer can understand is known as machine language or assembly code, where different computer CPUs use different machine languages."
   ]
  },
  {
   "cell_type": "markdown",
   "metadata": {
    "collapsed": false
   },
   "source": [
    "## What is a Header File\n",
    "A header file is that can contain common information that needs to be used by more than one source file.  It is a very convenient and efficient way to share information in exactly the same way between any one needing to use the information.  Typically, include files contain function prototypes, constant definitions, data structure definitions, and other information that may be needed by a source file using a particular module, library, or functions from another source file.  \n",
    "\n",
    "An alternative way to do this would be to have the needed information located in a source file and then copy and paste that information into new source files that need it.  This is clearly not efficient and potentially problematic as code is being duplicated in multiple files, it's not necessarily clear where the original (master) set of the duplicate code resides, the copied code might be modified in one file (and none of the others), and also tends to make source files unnecessarily long, overly verbose, and prone to error."
   ]
  },
  {
   "cell_type": "markdown",
   "metadata": {
    "collapsed": false
   },
   "source": [
    "## What is an Object File\n",
    "An object file is an intermediate format between the source file and machine language.  While the CPU can understand the commands in an object file, an object file is an incomplete fragment of a program, and therefore cannot be run.  For example, there is no start point, no end point, no information on where variables can be located in memory and so on."
   ]
  },
  {
   "cell_type": "markdown",
   "metadata": {
    "collapsed": false
   },
   "source": [
    "## What is Compiling\n",
    "A compiler reads and parses the source code (and its include files) and translates the source code into machine code.  It sets up the list of requirements for variables for the object files that are created."
   ]
  },
  {
   "cell_type": "markdown",
   "metadata": {
    "collapsed": false
   },
   "source": [
    "## What is Linking\n",
    "Linking is the final assembly step for an executable program.  The link merges the object files, library files, sets up the start point, end point, and determines where all variables will be located in memory.  The link also makes sure that all internal references to variables and functions match up, and reports if there are any unresolved references.  For example, if the final executable program expects to be able to open a data file on disk, but the library or object file that contains the functions for performing file access is not included in the link, then the program will be unable to access disk files because those instructions are missing.\n",
    "\n",
    "When the linker completes successfully, the result will be the creation of an executable program that is ready to run and perform the steps and tasks laid out in the original source files.  That is not to say the program will run bug free or not crash--that all depends on how well the programmers implemented and tested the program during development."
   ]
  }
 ],
 "metadata": {
  "kernelspec": {
   "display_name": "Bash (Linux)",
   "language": "bash",
   "name": "bash"
  },
  "language_info": {
   "codemirror_mode": "shell",
   "file_extension": ".sh",
   "mimetype": "text/x-sh",
   "name": "bash"
  }
 },
 "nbformat": 4,
 "nbformat_minor": 0
}
